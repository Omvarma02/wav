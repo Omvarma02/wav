{
 "cells": [
  {
   "cell_type": "code",
   "execution_count": 1,
   "id": "0243bb10",
   "metadata": {},
   "outputs": [
    {
     "ename": "ModuleNotFoundError",
     "evalue": "No module named 'librosa'",
     "output_type": "error",
     "traceback": [
      "\u001b[1;31m---------------------------------------------------------------------------\u001b[0m",
      "\u001b[1;31mModuleNotFoundError\u001b[0m                       Traceback (most recent call last)",
      "\u001b[1;32m~\\AppData\\Local\\Temp/ipykernel_11380/1121779986.py\u001b[0m in \u001b[0;36m<module>\u001b[1;34m\u001b[0m\n\u001b[1;32m----> 1\u001b[1;33m \u001b[1;32mimport\u001b[0m \u001b[0mlibrosa\u001b[0m\u001b[1;33m\u001b[0m\u001b[1;33m\u001b[0m\u001b[0m\n\u001b[0m",
      "\u001b[1;31mModuleNotFoundError\u001b[0m: No module named 'librosa'"
     ]
    }
   ],
   "source": [
    "import librosa"
   ]
  },
  {
   "cell_type": "code",
   "execution_count": 2,
   "id": "0f4ee448",
   "metadata": {},
   "outputs": [
    {
     "ename": "ModuleNotFoundError",
     "evalue": "No module named 'librosa'",
     "output_type": "error",
     "traceback": [
      "\u001b[1;31m---------------------------------------------------------------------------\u001b[0m",
      "\u001b[1;31mModuleNotFoundError\u001b[0m                       Traceback (most recent call last)",
      "\u001b[1;32m~\\AppData\\Local\\Temp/ipykernel_11380/1121779986.py\u001b[0m in \u001b[0;36m<module>\u001b[1;34m\u001b[0m\n\u001b[1;32m----> 1\u001b[1;33m \u001b[1;32mimport\u001b[0m \u001b[0mlibrosa\u001b[0m\u001b[1;33m\u001b[0m\u001b[1;33m\u001b[0m\u001b[0m\n\u001b[0m",
      "\u001b[1;31mModuleNotFoundError\u001b[0m: No module named 'librosa'"
     ]
    }
   ],
   "source": [
    "import librosa"
   ]
  },
  {
   "cell_type": "code",
   "execution_count": 3,
   "id": "cd477328",
   "metadata": {},
   "outputs": [
    {
     "name": "stdout",
     "output_type": "stream",
     "text": [
      "^C\n",
      "Note: you may need to restart the kernel to use updated packages.\n"
     ]
    }
   ],
   "source": []
  },
  {
   "cell_type": "code",
   "execution_count": 4,
   "id": "eb07ba6c",
   "metadata": {},
   "outputs": [
    {
     "name": "stdout",
     "output_type": "stream",
     "text": [
      "Requirement already satisfied: librosa in c:\\users\\om\\appdata\\local\\programs\\python\\python310\\lib\\site-packages (0.9.2)\n",
      "Requirement already satisfied: joblib>=0.14 in c:\\users\\om\\appdata\\local\\programs\\python\\python310\\lib\\site-packages (from librosa) (1.2.0)\n",
      "Requirement already satisfied: resampy>=0.2.2 in c:\\users\\om\\appdata\\local\\programs\\python\\python310\\lib\\site-packages (from librosa) (0.4.2)\n",
      "Requirement already satisfied: scikit-learn>=0.19.1 in c:\\users\\om\\appdata\\local\\programs\\python\\python310\\lib\\site-packages (from librosa) (1.1.2)\n",
      "Requirement already satisfied: numba>=0.45.1 in c:\\users\\om\\appdata\\local\\programs\\python\\python310\\lib\\site-packages (from librosa) (0.56.2)\n",
      "Requirement already satisfied: decorator>=4.0.10 in c:\\users\\om\\appdata\\roaming\\python\\python310\\site-packages (from librosa) (5.1.1)\n",
      "Requirement already satisfied: numpy>=1.17.0 in c:\\users\\om\\appdata\\local\\programs\\python\\python310\\lib\\site-packages (from librosa) (1.23.4)\n",
      "Requirement already satisfied: audioread>=2.1.9 in c:\\users\\om\\appdata\\local\\programs\\python\\python310\\lib\\site-packages (from librosa) (3.0.0)\n",
      "Requirement already satisfied: pooch>=1.0 in c:\\users\\om\\appdata\\local\\programs\\python\\python310\\lib\\site-packages (from librosa) (1.6.0)\n",
      "Requirement already satisfied: scipy>=1.2.0 in c:\\users\\om\\appdata\\local\\programs\\python\\python310\\lib\\site-packages (from librosa) (1.9.2)\n",
      "Requirement already satisfied: packaging>=20.0 in c:\\users\\om\\appdata\\roaming\\python\\python310\\site-packages (from librosa) (21.3)\n",
      "Requirement already satisfied: soundfile>=0.10.2 in c:\\users\\om\\appdata\\local\\programs\\python\\python310\\lib\\site-packages (from librosa) (0.11.0)\n",
      "Requirement already satisfied: llvmlite<0.40,>=0.39.0dev0 in c:\\users\\om\\appdata\\local\\programs\\python\\python310\\lib\\site-packages (from numba>=0.45.1->librosa) (0.39.1)\n",
      "Requirement already satisfied: setuptools<60 in c:\\users\\om\\appdata\\local\\programs\\python\\python310\\lib\\site-packages (from numba>=0.45.1->librosa) (59.8.0)\n",
      "Requirement already satisfied: pyparsing!=3.0.5,>=2.0.2 in c:\\users\\om\\appdata\\roaming\\python\\python310\\site-packages (from packaging>=20.0->librosa) (3.0.9)\n",
      "Requirement already satisfied: appdirs>=1.3.0 in c:\\users\\om\\appdata\\local\\programs\\python\\python310\\lib\\site-packages (from pooch>=1.0->librosa) (1.4.4)\n",
      "Requirement already satisfied: requests>=2.19.0 in c:\\users\\om\\appdata\\local\\programs\\python\\python310\\lib\\site-packages (from pooch>=1.0->librosa) (2.28.1)\n",
      "Requirement already satisfied: threadpoolctl>=2.0.0 in c:\\users\\om\\appdata\\local\\programs\\python\\python310\\lib\\site-packages (from scikit-learn>=0.19.1->librosa) (3.1.0)\n",
      "Requirement already satisfied: cffi>=1.0 in c:\\users\\om\\appdata\\local\\programs\\python\\python310\\lib\\site-packages (from soundfile>=0.10.2->librosa) (1.15.1)\n",
      "Requirement already satisfied: pycparser in c:\\users\\om\\appdata\\local\\programs\\python\\python310\\lib\\site-packages (from cffi>=1.0->soundfile>=0.10.2->librosa) (2.21)\n",
      "Requirement already satisfied: urllib3<1.27,>=1.21.1 in c:\\users\\om\\appdata\\local\\programs\\python\\python310\\lib\\site-packages (from requests>=2.19.0->pooch>=1.0->librosa) (1.26.12)\n",
      "Requirement already satisfied: certifi>=2017.4.17 in c:\\users\\om\\appdata\\local\\programs\\python\\python310\\lib\\site-packages (from requests>=2.19.0->pooch>=1.0->librosa) (2022.9.24)\n",
      "Requirement already satisfied: charset-normalizer<3,>=2 in c:\\users\\om\\appdata\\local\\programs\\python\\python310\\lib\\site-packages (from requests>=2.19.0->pooch>=1.0->librosa) (2.1.1)\n",
      "Requirement already satisfied: idna<4,>=2.5 in c:\\users\\om\\appdata\\local\\programs\\python\\python310\\lib\\site-packages (from requests>=2.19.0->pooch>=1.0->librosa) (3.4)\n",
      "Collecting librosa\n",
      "  Using cached librosa-0.9.2-py3-none-any.whl (214 kB)\n",
      "Collecting resampy>=0.2.2\n",
      "  Using cached resampy-0.4.2-py3-none-any.whl (3.1 MB)\n",
      "Collecting numba>=0.45.1\n",
      "  Downloading numba-0.56.2-cp39-cp39-win_amd64.whl (2.5 MB)\n",
      "Collecting pooch>=1.0\n",
      "  Using cached pooch-1.6.0-py3-none-any.whl (56 kB)\n",
      "Requirement already satisfied: scikit-learn>=0.19.1 in c:\\users\\om\\appdata\\local\\programs\\python\\python39\\lib\\site-packages (from librosa) (0.24.2)\n",
      "Requirement already satisfied: scipy>=1.2.0 in c:\\users\\om\\appdata\\local\\programs\\python\\python39\\lib\\site-packages (from librosa) (1.7.1)\n",
      "Requirement already satisfied: packaging>=20.0 in c:\\users\\om\\appdata\\local\\programs\\python\\python39\\lib\\site-packages (from librosa) (21.0)\n",
      "Requirement already satisfied: joblib>=0.14 in c:\\users\\om\\appdata\\local\\programs\\python\\python39\\lib\\site-packages (from librosa) (1.0.1)\n",
      "Collecting soundfile>=0.10.2\n",
      "  Using cached soundfile-0.11.0-py2.py3-none-win_amd64.whl (1.0 MB)\n",
      "Requirement already satisfied: numpy>=1.17.0 in c:\\users\\om\\appdata\\local\\programs\\python\\python39\\lib\\site-packages (from librosa) (1.20.1)\n",
      "Collecting audioread>=2.1.9\n",
      "  Using cached audioread-3.0.0-py3-none-any.whl\n",
      "Requirement already satisfied: decorator>=4.0.10 in c:\\users\\om\\appdata\\local\\programs\\python\\python39\\lib\\site-packages (from librosa) (5.0.9)\n",
      "Requirement already satisfied: setuptools<60 in c:\\users\\om\\appdata\\local\\programs\\python\\python39\\lib\\site-packages (from numba>=0.45.1->librosa) (49.2.1)\n",
      "Collecting llvmlite<0.40,>=0.39.0dev0\n",
      "  Downloading llvmlite-0.39.1-cp39-cp39-win_amd64.whl (23.2 MB)\n",
      "Requirement already satisfied: pyparsing>=2.0.2 in c:\\users\\om\\appdata\\local\\programs\\python\\python39\\lib\\site-packages (from packaging>=20.0->librosa) (2.4.7)\n",
      "Collecting requests>=2.19.0\n",
      "  Using cached requests-2.28.1-py3-none-any.whl (62 kB)\n",
      "Collecting appdirs>=1.3.0\n",
      "  Using cached appdirs-1.4.4-py2.py3-none-any.whl (9.6 kB)\n",
      "Collecting idna<4,>=2.5\n",
      "  Using cached idna-3.4-py3-none-any.whl (61 kB)\n",
      "Collecting certifi>=2017.4.17\n",
      "  Using cached certifi-2022.9.24-py3-none-any.whl (161 kB)\n",
      "Collecting urllib3<1.27,>=1.21.1\n",
      "  Using cached urllib3-1.26.12-py2.py3-none-any.whl (140 kB)\n",
      "Collecting charset-normalizer<3,>=2\n",
      "  Using cached charset_normalizer-2.1.1-py3-none-any.whl (39 kB)\n",
      "Requirement already satisfied: threadpoolctl>=2.0.0 in c:\\users\\om\\appdata\\local\\programs\\python\\python39\\lib\\site-packages (from scikit-learn>=0.19.1->librosa) (2.2.0)\n",
      "Requirement already satisfied: cffi>=1.0 in c:\\users\\om\\appdata\\local\\programs\\python\\python39\\lib\\site-packages (from soundfile>=0.10.2->librosa) (1.14.6)\n",
      "Requirement already satisfied: pycparser in c:\\users\\om\\appdata\\local\\programs\\python\\python39\\lib\\site-packages (from cffi>=1.0->soundfile>=0.10.2->librosa) (2.20)\n",
      "Installing collected packages: urllib3, llvmlite, idna, charset-normalizer, certifi, requests, numba, appdirs, soundfile, resampy, pooch, audioread, librosa\n",
      "Successfully installed appdirs-1.4.4 audioread-3.0.0 certifi-2022.9.24 charset-normalizer-2.1.1 idna-3.4 librosa-0.9.2 llvmlite-0.39.1 numba-0.56.2 pooch-1.6.0 requests-2.28.1 resampy-0.4.2 soundfile-0.11.0 urllib3-1.26.12\n"
     ]
    },
    {
     "name": "stderr",
     "output_type": "stream",
     "text": [
      "WARNING: You are using pip version 21.2.4; however, version 22.2.2 is available.\n",
      "You should consider upgrading via the 'c:\\users\\om\\appdata\\local\\programs\\python\\python39\\python.exe -m pip install --upgrade pip' command.\n"
     ]
    }
   ],
   "source": [
    "! pip install librosa"
   ]
  },
  {
   "cell_type": "code",
   "execution_count": 5,
   "id": "b3f1f6dc",
   "metadata": {},
   "outputs": [],
   "source": [
    "import numpy as np\n"
   ]
  },
  {
   "cell_type": "code",
   "execution_count": null,
   "id": "52aae805",
   "metadata": {},
   "outputs": [],
   "source": []
  }
 ],
 "metadata": {
  "kernelspec": {
   "display_name": "Python 3 (ipykernel)",
   "language": "python",
   "name": "python3"
  },
  "language_info": {
   "codemirror_mode": {
    "name": "ipython",
    "version": 3
   },
   "file_extension": ".py",
   "mimetype": "text/x-python",
   "name": "python",
   "nbconvert_exporter": "python",
   "pygments_lexer": "ipython3",
   "version": "3.9.1"
  }
 },
 "nbformat": 4,
 "nbformat_minor": 5
}
